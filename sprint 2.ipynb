{
 "cells": [
  {
   "cell_type": "code",
   "execution_count": 1,
   "id": "6262ee46",
   "metadata": {},
   "outputs": [],
   "source": [
    "import pandas as pd\n",
    "from sqlalchemy import create_engine\n",
    "engine = create_engine('sqlite://', echo=False)\n",
    "\n",
    "def csv_to_database(csv, name):\n",
    "    \"\"\"\n",
    "       Deze functie maakt een database van een csv bestand.\n",
    "       Parameters:\n",
    "                  csv  = Het csv bestand waar je een database van wil maken.\n",
    "                         Zorg ervoor dat deze parameter een string is.\n",
    "                         \n",
    "                  name = De naam die je de database wil geven.\n",
    "                         Zorg ervoor dat deze parameter een string is.\n",
    "    \"\"\"\n",
    "    df = pd.read_csv(csv)\n",
    "    df.to_sql(name, con=engine)\n",
    "    \n",
    "    return df\n",
    "\n",
    "def show_query(query):\n",
    "    \"\"\"\n",
    "       Deze functie print de output van je SQL query uit.\n",
    "       Parameters:\n",
    "                  query = Je SQL query.\n",
    "                          Zorg ervoor dat deze parameter een string is.\n",
    "    \"\"\"\n",
    "    query_output = engine.execute(query).fetchall()\n",
    "    column_names = engine.execute(query)._metadata.keys\n",
    "    return pd.DataFrame(query_output, columns = column_names)"
   ]
  },
  {
   "cell_type": "code",
   "execution_count": 2,
   "id": "91989241",
   "metadata": {},
   "outputs": [
    {
     "ename": "DatabaseError",
     "evalue": "Execution failed on sql 'SELECT * FROM Country': no such table: Country",
     "output_type": "error",
     "traceback": [
      "\u001b[1;31m---------------------------------------------------------------------------\u001b[0m",
      "\u001b[1;31mOperationalError\u001b[0m                          Traceback (most recent call last)",
      "File \u001b[1;32m~\\AppData\\Roaming\\Python\\Python311\\site-packages\\pandas\\io\\sql.py:2672\u001b[0m, in \u001b[0;36mSQLiteDatabase.execute\u001b[1;34m(self, sql, params)\u001b[0m\n\u001b[0;32m   2671\u001b[0m \u001b[38;5;28;01mtry\u001b[39;00m:\n\u001b[1;32m-> 2672\u001b[0m     \u001b[43mcur\u001b[49m\u001b[38;5;241;43m.\u001b[39;49m\u001b[43mexecute\u001b[49m\u001b[43m(\u001b[49m\u001b[43msql\u001b[49m\u001b[43m,\u001b[49m\u001b[43m \u001b[49m\u001b[38;5;241;43m*\u001b[39;49m\u001b[43margs\u001b[49m\u001b[43m)\u001b[49m\n\u001b[0;32m   2673\u001b[0m     \u001b[38;5;28;01mreturn\u001b[39;00m cur\n",
      "\u001b[1;31mOperationalError\u001b[0m: no such table: Country",
      "\nThe above exception was the direct cause of the following exception:\n",
      "\u001b[1;31mDatabaseError\u001b[0m                             Traceback (most recent call last)",
      "Cell \u001b[1;32mIn[2], line 22\u001b[0m\n\u001b[0;32m     19\u001b[0m table_name8 \u001b[38;5;241m=\u001b[39m \u001b[38;5;124m\"\u001b[39m\u001b[38;5;124msqlite_sequence\u001b[39m\u001b[38;5;124m\"\u001b[39m\n\u001b[0;32m     21\u001b[0m \u001b[38;5;66;03m# Read data from the table into a Pandas DataFrame\u001b[39;00m\n\u001b[1;32m---> 22\u001b[0m df1 \u001b[38;5;241m=\u001b[39m \u001b[43mpd\u001b[49m\u001b[38;5;241;43m.\u001b[39;49m\u001b[43mread_sql\u001b[49m\u001b[43m(\u001b[49m\u001b[38;5;124;43mf\u001b[39;49m\u001b[38;5;124;43m\"\u001b[39;49m\u001b[38;5;124;43mSELECT * FROM \u001b[39;49m\u001b[38;5;132;43;01m{\u001b[39;49;00m\u001b[43mtable_name1\u001b[49m\u001b[38;5;132;43;01m}\u001b[39;49;00m\u001b[38;5;124;43m\"\u001b[39;49m\u001b[43m,\u001b[49m\u001b[43m \u001b[49m\u001b[43mconn\u001b[49m\u001b[43m)\u001b[49m\n\u001b[0;32m     23\u001b[0m df2 \u001b[38;5;241m=\u001b[39m pd\u001b[38;5;241m.\u001b[39mread_sql(\u001b[38;5;124mf\u001b[39m\u001b[38;5;124m\"\u001b[39m\u001b[38;5;124mSELECT * FROM \u001b[39m\u001b[38;5;132;01m{\u001b[39;00mtable_name2\u001b[38;5;132;01m}\u001b[39;00m\u001b[38;5;124m\"\u001b[39m, conn)\n\u001b[0;32m     24\u001b[0m df3 \u001b[38;5;241m=\u001b[39m pd\u001b[38;5;241m.\u001b[39mread_sql(\u001b[38;5;124mf\u001b[39m\u001b[38;5;124m\"\u001b[39m\u001b[38;5;124mSELECT * FROM \u001b[39m\u001b[38;5;132;01m{\u001b[39;00mtable_name3\u001b[38;5;132;01m}\u001b[39;00m\u001b[38;5;124m\"\u001b[39m, conn)\n",
      "File \u001b[1;32m~\\AppData\\Roaming\\Python\\Python311\\site-packages\\pandas\\io\\sql.py:706\u001b[0m, in \u001b[0;36mread_sql\u001b[1;34m(sql, con, index_col, coerce_float, params, parse_dates, columns, chunksize, dtype_backend, dtype)\u001b[0m\n\u001b[0;32m    704\u001b[0m \u001b[38;5;28;01mwith\u001b[39;00m pandasSQL_builder(con) \u001b[38;5;28;01mas\u001b[39;00m pandas_sql:\n\u001b[0;32m    705\u001b[0m     \u001b[38;5;28;01mif\u001b[39;00m \u001b[38;5;28misinstance\u001b[39m(pandas_sql, SQLiteDatabase):\n\u001b[1;32m--> 706\u001b[0m         \u001b[38;5;28;01mreturn\u001b[39;00m \u001b[43mpandas_sql\u001b[49m\u001b[38;5;241;43m.\u001b[39;49m\u001b[43mread_query\u001b[49m\u001b[43m(\u001b[49m\n\u001b[0;32m    707\u001b[0m \u001b[43m            \u001b[49m\u001b[43msql\u001b[49m\u001b[43m,\u001b[49m\n\u001b[0;32m    708\u001b[0m \u001b[43m            \u001b[49m\u001b[43mindex_col\u001b[49m\u001b[38;5;241;43m=\u001b[39;49m\u001b[43mindex_col\u001b[49m\u001b[43m,\u001b[49m\n\u001b[0;32m    709\u001b[0m \u001b[43m            \u001b[49m\u001b[43mparams\u001b[49m\u001b[38;5;241;43m=\u001b[39;49m\u001b[43mparams\u001b[49m\u001b[43m,\u001b[49m\n\u001b[0;32m    710\u001b[0m \u001b[43m            \u001b[49m\u001b[43mcoerce_float\u001b[49m\u001b[38;5;241;43m=\u001b[39;49m\u001b[43mcoerce_float\u001b[49m\u001b[43m,\u001b[49m\n\u001b[0;32m    711\u001b[0m \u001b[43m            \u001b[49m\u001b[43mparse_dates\u001b[49m\u001b[38;5;241;43m=\u001b[39;49m\u001b[43mparse_dates\u001b[49m\u001b[43m,\u001b[49m\n\u001b[0;32m    712\u001b[0m \u001b[43m            \u001b[49m\u001b[43mchunksize\u001b[49m\u001b[38;5;241;43m=\u001b[39;49m\u001b[43mchunksize\u001b[49m\u001b[43m,\u001b[49m\n\u001b[0;32m    713\u001b[0m \u001b[43m            \u001b[49m\u001b[43mdtype_backend\u001b[49m\u001b[38;5;241;43m=\u001b[39;49m\u001b[43mdtype_backend\u001b[49m\u001b[43m,\u001b[49m\n\u001b[0;32m    714\u001b[0m \u001b[43m            \u001b[49m\u001b[43mdtype\u001b[49m\u001b[38;5;241;43m=\u001b[39;49m\u001b[43mdtype\u001b[49m\u001b[43m,\u001b[49m\n\u001b[0;32m    715\u001b[0m \u001b[43m        \u001b[49m\u001b[43m)\u001b[49m\n\u001b[0;32m    717\u001b[0m     \u001b[38;5;28;01mtry\u001b[39;00m:\n\u001b[0;32m    718\u001b[0m         _is_table_name \u001b[38;5;241m=\u001b[39m pandas_sql\u001b[38;5;241m.\u001b[39mhas_table(sql)\n",
      "File \u001b[1;32m~\\AppData\\Roaming\\Python\\Python311\\site-packages\\pandas\\io\\sql.py:2736\u001b[0m, in \u001b[0;36mSQLiteDatabase.read_query\u001b[1;34m(self, sql, index_col, coerce_float, parse_dates, params, chunksize, dtype, dtype_backend)\u001b[0m\n\u001b[0;32m   2725\u001b[0m \u001b[38;5;28;01mdef\u001b[39;00m \u001b[38;5;21mread_query\u001b[39m(\n\u001b[0;32m   2726\u001b[0m     \u001b[38;5;28mself\u001b[39m,\n\u001b[0;32m   2727\u001b[0m     sql,\n\u001b[1;32m   (...)\u001b[0m\n\u001b[0;32m   2734\u001b[0m     dtype_backend: DtypeBackend \u001b[38;5;241m|\u001b[39m Literal[\u001b[38;5;124m\"\u001b[39m\u001b[38;5;124mnumpy\u001b[39m\u001b[38;5;124m\"\u001b[39m] \u001b[38;5;241m=\u001b[39m \u001b[38;5;124m\"\u001b[39m\u001b[38;5;124mnumpy\u001b[39m\u001b[38;5;124m\"\u001b[39m,\n\u001b[0;32m   2735\u001b[0m ) \u001b[38;5;241m-\u001b[39m\u001b[38;5;241m>\u001b[39m DataFrame \u001b[38;5;241m|\u001b[39m Iterator[DataFrame]:\n\u001b[1;32m-> 2736\u001b[0m     cursor \u001b[38;5;241m=\u001b[39m \u001b[38;5;28;43mself\u001b[39;49m\u001b[38;5;241;43m.\u001b[39;49m\u001b[43mexecute\u001b[49m\u001b[43m(\u001b[49m\u001b[43msql\u001b[49m\u001b[43m,\u001b[49m\u001b[43m \u001b[49m\u001b[43mparams\u001b[49m\u001b[43m)\u001b[49m\n\u001b[0;32m   2737\u001b[0m     columns \u001b[38;5;241m=\u001b[39m [col_desc[\u001b[38;5;241m0\u001b[39m] \u001b[38;5;28;01mfor\u001b[39;00m col_desc \u001b[38;5;129;01min\u001b[39;00m cursor\u001b[38;5;241m.\u001b[39mdescription]\n\u001b[0;32m   2739\u001b[0m     \u001b[38;5;28;01mif\u001b[39;00m chunksize \u001b[38;5;129;01mis\u001b[39;00m \u001b[38;5;129;01mnot\u001b[39;00m \u001b[38;5;28;01mNone\u001b[39;00m:\n",
      "File \u001b[1;32m~\\AppData\\Roaming\\Python\\Python311\\site-packages\\pandas\\io\\sql.py:2684\u001b[0m, in \u001b[0;36mSQLiteDatabase.execute\u001b[1;34m(self, sql, params)\u001b[0m\n\u001b[0;32m   2681\u001b[0m     \u001b[38;5;28;01mraise\u001b[39;00m ex \u001b[38;5;28;01mfrom\u001b[39;00m \u001b[38;5;21;01minner_exc\u001b[39;00m\n\u001b[0;32m   2683\u001b[0m ex \u001b[38;5;241m=\u001b[39m DatabaseError(\u001b[38;5;124mf\u001b[39m\u001b[38;5;124m\"\u001b[39m\u001b[38;5;124mExecution failed on sql \u001b[39m\u001b[38;5;124m'\u001b[39m\u001b[38;5;132;01m{\u001b[39;00msql\u001b[38;5;132;01m}\u001b[39;00m\u001b[38;5;124m'\u001b[39m\u001b[38;5;124m: \u001b[39m\u001b[38;5;132;01m{\u001b[39;00mexc\u001b[38;5;132;01m}\u001b[39;00m\u001b[38;5;124m\"\u001b[39m)\n\u001b[1;32m-> 2684\u001b[0m \u001b[38;5;28;01mraise\u001b[39;00m ex \u001b[38;5;28;01mfrom\u001b[39;00m \u001b[38;5;21;01mexc\u001b[39;00m\n",
      "\u001b[1;31mDatabaseError\u001b[0m: Execution failed on sql 'SELECT * FROM Country': no such table: Country"
     ]
    }
   ],
   "source": [
    "import pandas as pd\n",
    "import sqlite3\n",
    "\n",
    "# Define database file path and output CSV file path\n",
    "db_path = \"database.sqlite\"\n",
    "csv_path = \"data.csv\"\n",
    "\n",
    "# Connect to the SQLite database\n",
    "conn = sqlite3.connect(db_path)\n",
    "\n",
    "# Specify the table name to export (replace 'your_table_name' with the actual name)\n",
    "table_name1 = \"Country\"\n",
    "table_name2 = \"League\"\n",
    "table_name3 = \"Match\"\n",
    "table_name4 = \"Player\"\n",
    "table_name5 = \"Player_Attributes\"\n",
    "table_name6 = \"Team\"\n",
    "table_name7 = \"Team_Attributes\"\n",
    "table_name8 = \"sqlite_sequence\"\n",
    "\n",
    "# Read data from the table into a Pandas DataFrame\n",
    "df1 = pd.read_sql(f\"SELECT * FROM {table_name1}\", conn)\n",
    "df2 = pd.read_sql(f\"SELECT * FROM {table_name2}\", conn)\n",
    "df3 = pd.read_sql(f\"SELECT * FROM {table_name3}\", conn)\n",
    "df4 = pd.read_sql(f\"SELECT * FROM {table_name4}\", conn)\n",
    "df5 = pd.read_sql(f\"SELECT * FROM {table_name5}\", conn)\n",
    "df6 = pd.read_sql(f\"SELECT * FROM {table_name6}\", conn)\n",
    "df7 = pd.read_sql(f\"SELECT * FROM {table_name7}\", conn)\n",
    "df8 = pd.read_sql(f\"SELECT * FROM {table_name8}\", conn)\n",
    "\n",
    "# Close the connection to the database\n",
    "conn.close()\n",
    "\n",
    "# Save the DataFrame to a CSV file\n",
    "df1.to_csv(csv_path, index=False)\n",
    "\n",
    "print(f\"Data from table '{table_name}' exported to '{csv_path}'\")\n"
   ]
  },
  {
   "cell_type": "code",
   "execution_count": null,
   "id": "648ef241",
   "metadata": {},
   "outputs": [],
   "source": [
    "df1"
   ]
  },
  {
   "cell_type": "markdown",
   "id": "9b5acdbc",
   "metadata": {},
   "source": [
    "In df4 kun jij je de spelers opzoek door middel van search by \"ID\""
   ]
  },
  {
   "cell_type": "code",
   "execution_count": null,
   "id": "ddf43b45",
   "metadata": {},
   "outputs": [],
   "source": [
    "df4"
   ]
  },
  {
   "cell_type": "code",
   "execution_count": null,
   "id": "7b4b531c",
   "metadata": {},
   "outputs": [],
   "source": [
    "df4[\"height\"].max()"
   ]
  },
  {
   "cell_type": "code",
   "execution_count": null,
   "id": "9fdb2c81",
   "metadata": {},
   "outputs": [],
   "source": [
    "df4[\"weight\"].max()"
   ]
  },
  {
   "cell_type": "code",
   "execution_count": null,
   "id": "5cabbf25",
   "metadata": {},
   "outputs": [],
   "source": [
    "df2"
   ]
  },
  {
   "cell_type": "code",
   "execution_count": null,
   "id": "85628175",
   "metadata": {},
   "outputs": [],
   "source": []
  },
  {
   "cell_type": "code",
   "execution_count": null,
   "id": "eda091f5",
   "metadata": {},
   "outputs": [],
   "source": []
  },
  {
   "cell_type": "code",
   "execution_count": null,
   "id": "670bf5a7",
   "metadata": {},
   "outputs": [],
   "source": []
  },
  {
   "cell_type": "markdown",
   "id": "3ea1f7df",
   "metadata": {},
   "source": [
    "Pas zelfgedefinierde functies toe op een seizoen naar keuze en bepaal daarmee de ranglijst van dat seizoen"
   ]
  },
  {
   "cell_type": "code",
   "execution_count": null,
   "id": "6f94f5c6",
   "metadata": {},
   "outputs": [],
   "source": [
    "df_s1516 = df3[df3[\"season\"] == '2015/2016'] \n",
    "df_s1516 "
   ]
  },
  {
   "cell_type": "code",
   "execution_count": null,
   "id": "7d1a23e3",
   "metadata": {},
   "outputs": [],
   "source": [
    "df_ci1516 = df_s1516 [df_s1516 [\"country_id\"] == 13274] \n",
    "df_ci1516"
   ]
  },
  {
   "cell_type": "code",
   "execution_count": null,
   "id": "551aabcd",
   "metadata": {},
   "outputs": [],
   "source": [
    "pd.set_option('display.max_columns', None)\n",
    "\n",
    "# Weergave van alle kolommen\n",
    "print(df_ci1516)"
   ]
  },
  {
   "cell_type": "markdown",
   "id": "b90edd25",
   "metadata": {},
   "source": [
    "Punten berekenen van elke team \n",
    "win = +3 \n",
    "gelijk = +1 \n",
    "gelijkspel en voor een nederlaag = 0 \n",
    "eredivies 2015/2016 = https://www.google.com/search?q=eredivisie+2015%2F16&sca_esv=562607b38f2994ce&rlz=1C1ONGR_nlNL968NL968&sxsrf=ACQVn0-94uxDewzf5I30LATBYwVtYvWi7Q%3A1710327089727&ei=MYXxZcOBLKXyi-gPxPSukAw&oq=eredivisie+2015&gs_lp=Egxnd3Mtd2l6LXNlcnAiD2VyZWRpdmlzaWUgMjAxNSoCCAAyBRAAGIAEMgUQABiABDIFEAAYgAQyBRAAGIAEMggQABiABBjLATIFEAAYgAQyBhAAGBYYHjIGEAAYFhgeMggQABgWGB4YDzIGEAAYFhgeSM0iUJgDWNQPcAF4AZABAJgBfaAByQOqAQM1LjG4AQHIAQD4AQGYAgegAvMDwgIKEAAYRxjWBBiwA8ICChAuGEMYgAQYigXCAggQABiABBixA8ICChAAGIAEGIoFGEPCAggQLhiABBixA8ICGRAuGEMYgAQYigUYlwUY3AQY3gQY4ATYAQHCAg4QABiABBiKBRixAxiDAcICCxAuGIAEGLEDGIMBmAMAiAYBkAYIugYGCAEQARgUkgcDNi4xoAegKA&sclient=gws-wiz-serp#sie=lg;/m/0134d0pp;2;/m/04tdqs;st;fp;1;;;\n"
   ]
  },
  {
   "cell_type": "code",
   "execution_count": null,
   "id": "eba1cc9a",
   "metadata": {},
   "outputs": [],
   "source": [
    "def update_standings(standings, team_id, points):\n",
    "    if team_id not in standings['Team'].values:\n",
    "        standings = standings.append({'Team': team_id, 'Points': points}, ignore_index=True)\n",
    "    else:\n",
    "        standings.loc[standings['Team'] == team_id, 'Points'] += points\n",
    "    return standings\n"
   ]
  },
  {
   "cell_type": "code",
   "execution_count": null,
   "id": "d0c26d25",
   "metadata": {},
   "outputs": [],
   "source": [
    "import warnings\n",
    "\n",
    "warnings.filterwarnings('ignore')\n",
    "\n",
    "# Your code here\n",
    "\n",
    "def update_standings(standings, team_id, points):\n",
    "    if team_id not in standings['Team'].values:\n",
    "        standings = standings.append({'Team': team_id, 'Points': points}, ignore_index=True)\n",
    "    else:\n",
    "        standings.loc[standings['Team'] == team_id, 'Points'] += points\n",
    "    return standings\n",
    "\n",
    "season_2015_2016 = df3[df3['season'] == '2009/2010']\n",
    "\n",
    "standings = pd.DataFrame(columns=['Team', 'Points'])\n",
    "\n",
    "for index, match in season_2015_2016.iterrows():\n",
    "    home_team = match['home_team_api_id']\n",
    "    away_team = match['away_team_api_id']\n",
    "    home_goals = match['home_team_goal']\n",
    "    away_goals = match['away_team_goal']\n",
    "\n",
    "    if home_goals > away_goals:\n",
    "        # Thuisploeg wint\n",
    "        standings = update_standings(standings, home_team, 3)\n",
    "    elif home_goals < away_goals:\n",
    "        # Uitploeg wint\n",
    "        standings = update_standings(standings, away_team, 3)\n",
    "    else:\n",
    "        # Het is een gelijkspel\n",
    "        standings = update_standings(standings, home_team, 1)\n",
    "        standings = update_standings(standings, away_team, 1)\n",
    "\n",
    "standings = standings.sort_values(by='Points', ascending=False)\n",
    "\n",
    "# Reset warnings to default behavior (optional)\n",
    "warnings.filterwarnings('default')\n",
    "\n",
    "\n",
    "standings"
   ]
  },
  {
   "cell_type": "code",
   "execution_count": null,
   "id": "fb33f16d",
   "metadata": {},
   "outputs": [],
   "source": [
    "df = pd.dataframe \n",
    "\n"
   ]
  },
  {
   "cell_type": "code",
   "execution_count": null,
   "id": "c96188e3",
   "metadata": {},
   "outputs": [],
   "source": [
    "import pandas as pd\n",
    "\n",
    "def update_standings(standings, team_id, points, wins, losses, draws, gf, ga):\n",
    "  \"\"\"\n",
    "  Updates the standings DataFrame for a given team.\n",
    "\n",
    "  Args:\n",
    "      standings: DataFrame containing the current standings.\n",
    "      team_id: ID of the team to update.\n",
    "      points: Number of points to add to the team's current total.\n",
    "      wins: Number of wins to add to the team's current total (optional).\n",
    "      losses: Number of losses to add to the team's current total (optional).\n",
    "      draws: Number of draws to add to the team's current total (optional).\n",
    "      gf: Number of goals scored by the team to add to the current total (optional).\n",
    "      ga: Number of goals conceded by the team to add to the current total (optional).\n",
    "\n",
    "  Returns:\n",
    "      The updated DataFrame.\n",
    "  \"\"\"\n",
    "  if team_id not in standings['Team'].values:\n",
    "    standings = standings.append({'Team': team_id, 'Points': points,\n",
    "                                  'Wins': wins, 'Losses': losses, 'Draws': draws,\n",
    "                                  'GF': gf, 'GA': ga}, ignore_index=True)\n",
    "  else:\n",
    "    idx = standings.index[standings['Team'] == team_id].tolist()[0]\n",
    "    standings.loc[idx, 'Points'] += points\n",
    "    if wins is not None:\n",
    "      standings.loc[idx, 'Wins'] += wins\n",
    "    if losses is not None:\n",
    "      standings.loc[idx, 'Losses'] += losses\n",
    "    if draws is not None:\n",
    "      standings.loc[idx, 'Draws'] += draws\n",
    "    if gf is not None:\n",
    "      standings.loc[idx, 'GF'] += gf\n",
    "    if ga is not None:\n",
    "      standings.loc[idx, 'GA'] += ga\n",
    "  return standings\n",
    "\n",
    "# Sample match data (replace with your actual data)\n",
    "season_2015_2016 = [\n",
    "    {'home_team_api_id': 'team1', 'away_team_api_id': 'team2', 'home_team_goal': 2, 'away_team_goal': 1},\n",
    "    # ... add more matches ...\n",
    "]\n",
    "\n",
    "# Define columns for the DataFrame\n",
    "columns = ['Team', 'Points', 'Wins', 'Losses', 'Draws', 'GF', 'GA']\n",
    "\n",
    "# Create empty DataFrame\n",
    "standings = pd.DataFrame(columns=columns)\n",
    "\n",
    "for match in season_2015_2016:\n",
    "  home_team = match['home_team_api_id']\n",
    "  away_team = match['away_team_api_id']\n",
    "  home_goals = match['home_team_goal']\n",
    "  away_goals = match['away_team_goal']\n",
    "\n",
    "  if home_goals > away_goals:\n",
    "    # Home team wins\n",
    "    standings = update_standings(standings, home_team, 3, 1, 0, 0, home_goals, away_goals)\n",
    "    standings = update_standings(standings, away_team, 0, 0, 1, 0, away_goals, home_goals)\n",
    "  elif home_goals < away_goals:\n",
    "    # Away team wins\n",
    "    standings = update_standings(standings, away_team, 3, 1, 0, 0, away_goals, home_goals)\n",
    "    standings = update_standings(standings, home_team, 0, 0, 1, 0, home_goals, away_goals)\n",
    "  else:\n",
    "    # Draw\n",
    "    standings = update_standings(standings, home_team, 1, 0, 0, 1, home_goals, away_goals)\n",
    "    standings = update_standings(standings, away_team, 1, 0, 0, 1, away_goals, home_goals)\n",
    "\n",
    "# Sort and display standings\n",
    "standings_sorted = standings.sort_values(by=['Points', 'GD'], ascending=[False, False])\n",
    "print(standings_sorted)\n"
   ]
  },
  {
   "cell_type": "code",
   "execution_count": null,
   "id": "1952bc4f",
   "metadata": {},
   "outputs": [],
   "source": [
    "import pandas as pd\n",
    "\n",
    "def update_standings(standings, team_id, points, wins, losses, gf, ga):\n",
    "  \"\"\"\n",
    "  Updates the standings DataFrame for a given team.\n",
    "\n",
    "  Args:\n",
    "      standings: DataFrame containing the current standings.\n",
    "      team_id: ID of the team to update.\n",
    "      points: Number of points to add to the team's current total.\n",
    "      wins: Number of wins to add to the team's current total (optional).\n",
    "      losses: Number of losses to add to the team's current total (optional).\n",
    "      gf: Number of goals scored by the team to add to the current total (optional).\n",
    "      ga: Number of goals conceded by the team to add to the current total (optional).\n",
    "\n",
    "  Returns:\n",
    "      The updated DataFrame.\n",
    "  \"\"\"\n",
    "  if team_id not in standings['Team'].values:\n",
    "    standings = standings.append({'Team': team_id, 'Points': points,\n",
    "                                  'Wins': wins, 'Losses': losses, 'GF': gf, 'GA': ga}, ignore_index=True)\n",
    "  else:\n",
    "    idx = standings.index[standings['Team'] == team_id].tolist()[0]\n",
    "    standings.loc[idx, 'Points'] += points\n",
    "    if wins is not None:\n",
    "      standings.loc[idx, 'Wins'] += wins\n",
    "    if losses is not None:\n",
    "      standings.loc[idx, 'Losses'] += losses\n",
    "    if gf is not None:\n",
    "      standings.loc[idx, 'GF'] += gf\n",
    "    if ga is not None:\n",
    "      standings.loc[idx, 'GA'] += ga\n",
    "  return standings\n",
    "\n",
    "# Sample match data (replace with your actual data)\n",
    "data = {\n",
    "  'match_id': [15415, 15416, 15417, 15418, 15419],\n",
    "  'home_team': ['team1', 'team2', 'team1', 'team2', 'team1'],\n",
    "  'away_team': ['team2', 'team1', 'team2', 'team1', 'team2'],\n",
    "  'home_goal': [2, 2, 1, 2, 2],\n",
    "  'away_goal': [1, 1, 1, 2, 1]\n",
    "}\n",
    "\n",
    "df = pd.DataFrame(data)\n",
    "\n",
    "# Define columns for the standings\n",
    "columns = ['Team', 'Points', 'Wins', 'Losses', 'GF', 'GA']\n",
    "\n",
    "# Create empty DataFrame for standings\n",
    "standings = pd.DataFrame(columns=columns)\n",
    "\n",
    "for index, row in df.iterrows():\n",
    "  home_team = row['home_team']\n",
    "  away_team = row['away_team']\n",
    "  home_goals = row['home_goal']\n",
    "  away_goals = row['away_goal']\n",
    "\n",
    "  if home_goals > away_goals:\n"
   ]
  }
 ],
 "metadata": {
  "kernelspec": {
   "display_name": "Python 3 (ipykernel)",
   "language": "python",
   "name": "python3"
  },
  "language_info": {
   "codemirror_mode": {
    "name": "ipython",
    "version": 3
   },
   "file_extension": ".py",
   "mimetype": "text/x-python",
   "name": "python",
   "nbconvert_exporter": "python",
   "pygments_lexer": "ipython3",
   "version": "3.11.4"
  }
 },
 "nbformat": 4,
 "nbformat_minor": 5
}
